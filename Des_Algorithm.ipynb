{
  "nbformat": 4,
  "nbformat_minor": 0,
  "metadata": {
    "colab": {
      "provenance": [],
      "authorship_tag": "ABX9TyMoo4qXAKXm+EJtnKp7HJo5",
      "include_colab_link": true
    },
    "kernelspec": {
      "name": "python3",
      "display_name": "Python 3"
    },
    "language_info": {
      "name": "python"
    }
  },
  "cells": [
    {
      "cell_type": "markdown",
      "metadata": {
        "id": "view-in-github",
        "colab_type": "text"
      },
      "source": [
        "<a href=\"https://colab.research.google.com/github/inihikam/decision-tree-classification/blob/main/Des_Algorithm.ipynb\" target=\"_parent\"><img src=\"https://colab.research.google.com/assets/colab-badge.svg\" alt=\"Open In Colab\"/></a>"
      ]
    },
    {
      "cell_type": "markdown",
      "source": [
        "**DES (Data Encryption Standart)**\n",
        "---\n",
        "\n",
        "\n",
        "Berikut adalah Skema Bagaimana DES Bekerja :\n",
        "\n",
        "![Skema DES](https://drive.google.com/uc?export=view&id=1ZjIzEnENmGnoXA1fIue283xw3Qr5KtSp)"
      ],
      "metadata": {
        "id": "30O4-yyawJUZ"
      }
    },
    {
      "cell_type": "markdown",
      "source": [
        "**Fungsi Binary to Decimal**\n",
        "---\n",
        "\n",
        "Fungsi ini merupakan fungsi untuk mengubah binary menjadi bilangan decimal."
      ],
      "metadata": {
        "id": "L7keaHkiw9Jo"
      }
    },
    {
      "cell_type": "code",
      "source": [
        "def bin_to_dec(binary):\n",
        "    decimal = 0\n",
        "    for i in range(len(binary)):\n",
        "        # bit akan mengambil index paling kanan\n",
        "        bit = binary[-i - 1]\n",
        "        if bit == '1':\n",
        "            decimal += 2 ** i\n",
        "    return decimal"
      ],
      "metadata": {
        "id": "fdGq4hV8YmFs"
      },
      "execution_count": null,
      "outputs": []
    },
    {
      "cell_type": "markdown",
      "source": [
        "**Fungsi Decimal to Binary**\n",
        "---\n",
        "\n",
        "Fungsi ini merupakan fungsi untuk mengubah bilangan decimal menjadi binary."
      ],
      "metadata": {
        "id": "3AuKQY42xeor"
      }
    },
    {
      "cell_type": "code",
      "source": [
        "def dec_to_bin(n):\n",
        "    bin_n = \"\"\n",
        "\n",
        "    # jika decimal nya 0 maka akan menambahkan binary 0 saja\n",
        "    if n == 0:\n",
        "        bin_n += \"0\"\n",
        "\n",
        "    # jika decimal lebih dari 0 maka akan dilakukan operasi perubahan ke biner\n",
        "    while n > 0:\n",
        "      # Nilai decimal akan dimodulo 2 sehingga menghasilkan 1 atau 0\n",
        "      bin_n = str(n % 2) + bin_n\n",
        "\n",
        "      # setelah dimodulo maka decimal akan dibagi dengan 2\n",
        "      # tanpa menghasilkan koma (hanya mengambil bilangan bulat)\n",
        "      n = n // 2\n",
        "\n",
        "    # Jika binary tidak genap 8 bit\n",
        "    if (len(bin_n) % 4 != 0):\n",
        "      div = len(bin_n) / 4\n",
        "      div = int(div)\n",
        "      # Mendapatkan sisa 8 bit yang kurang\n",
        "      counter = (4 * (div + 1)) - len(bin_n)\n",
        "      for i in range(0, counter):\n",
        "        bin_n = '0' + bin_n\n",
        "    return bin_n"
      ],
      "metadata": {
        "id": "4yAzaHIrjw8l"
      },
      "execution_count": null,
      "outputs": []
    },
    {
      "cell_type": "markdown",
      "source": [
        "**Pertama, Kita Inputkan Plain Text dengan maksimal 8 Karakter**"
      ],
      "metadata": {
        "id": "yb_VmIajyoH1"
      }
    },
    {
      "cell_type": "code",
      "execution_count": null,
      "metadata": {
        "id": "rOJnucXii-N3",
        "colab": {
          "base_uri": "https://localhost:8080/"
        },
        "outputId": "fbc71141-f6ec-41fe-8702-16c920e76ec8"
      },
      "outputs": [
        {
          "name": "stdout",
          "output_type": "stream",
          "text": [
            "Masukkan Plain Text : COMPUTER\n"
          ]
        }
      ],
      "source": [
        "pt = input(\"Masukkan Plain Text : \")"
      ]
    },
    {
      "cell_type": "markdown",
      "source": [
        "**Lalu, kita ubah Plain Text kedalam bentuk biner**"
      ],
      "metadata": {
        "id": "vY8l4pjWy0oQ"
      }
    },
    {
      "cell_type": "code",
      "source": [
        "bin_pt = \"\"\n",
        "for i in pt:\n",
        "  print(\"Huruf = \" + i)\n",
        "  print(\"Decimal = \" + str(ord(i)))\n",
        "\n",
        "  # Mengambil Value ASCII dari karakter\n",
        "  dec_abjad = ord(i)\n",
        "\n",
        "  # Convert decimal to binary\n",
        "  bin_abjad = dec_to_bin(dec_abjad)\n",
        "\n",
        "  bin_pt += bin_abjad\n",
        "\n",
        "print(\"The binary of plaintext is : \" + bin_pt)"
      ],
      "metadata": {
        "colab": {
          "base_uri": "https://localhost:8080/"
        },
        "id": "MacRIm7ZynjJ",
        "outputId": "7b524abb-2373-47af-e836-65e9272f1f54"
      },
      "execution_count": null,
      "outputs": [
        {
          "output_type": "stream",
          "name": "stdout",
          "text": [
            "Huruf = C\n",
            "Decimal = 67\n",
            "Huruf = O\n",
            "Decimal = 79\n",
            "Huruf = M\n",
            "Decimal = 77\n",
            "Huruf = P\n",
            "Decimal = 80\n",
            "Huruf = U\n",
            "Decimal = 85\n",
            "Huruf = T\n",
            "Decimal = 84\n",
            "Huruf = E\n",
            "Decimal = 69\n",
            "Huruf = R\n",
            "Decimal = 82\n",
            "The binary of plaintext is : 0100001101001111010011010101000001010101010101000100010101010010\n"
          ]
        }
      ]
    },
    {
      "cell_type": "code",
      "source": [
        "print(len(bin_pt))"
      ],
      "metadata": {
        "colab": {
          "base_uri": "https://localhost:8080/"
        },
        "id": "hJ7Y7_eLnHQI",
        "outputId": "4b07757d-3d33-4d05-8be5-d7f35a3acef5"
      },
      "execution_count": null,
      "outputs": [
        {
          "output_type": "stream",
          "name": "stdout",
          "text": [
            "64\n"
          ]
        }
      ]
    },
    {
      "cell_type": "markdown",
      "source": [
        "**Lalu inisialisasi tabel untuk permutasi awal Plain Text yang sudah menjadi Biner**"
      ],
      "metadata": {
        "id": "vztCSHLMzJlM"
      }
    },
    {
      "cell_type": "code",
      "source": [
        "initial_perm = [58, 50, 42, 34, 26, 18, 10, 2,\n",
        "                60, 52, 44, 36, 28, 20, 12, 4,\n",
        "                62, 54, 46, 38, 30, 22, 14, 6,\n",
        "                64, 56, 48, 40, 32, 24, 16, 8,\n",
        "                57, 49, 41, 33, 25, 17, 9, 1,\n",
        "                59, 51, 43, 35, 27, 19, 11, 3,\n",
        "                61, 53, 45, 37, 29, 21, 13, 5,\n",
        "                63, 55, 47, 39, 31, 23, 15, 7]"
      ],
      "metadata": {
        "id": "vDs2Ca_Gz_Kr"
      },
      "execution_count": null,
      "outputs": []
    },
    {
      "cell_type": "markdown",
      "source": [
        "**LANGKAH 1**\n",
        "---\n",
        "\n",
        "Kita akan permutasi plain text sehingga bit-bitnya berubah"
      ],
      "metadata": {
        "id": "XjZdRw5PzUHG"
      }
    },
    {
      "cell_type": "code",
      "source": [
        "pt_permutation = \"\"\n",
        "for i in range(0, 64):\n",
        "  pt_permutation += bin_pt[initial_perm[i] - 1]\n",
        "print(\"Hasil permutasi plain text : \" + pt_permutation)"
      ],
      "metadata": {
        "colab": {
          "base_uri": "https://localhost:8080/"
        },
        "id": "lQg2q6lllKF9",
        "outputId": "046ae334-c81e-4389-e415-c0612790e4ae"
      },
      "execution_count": null,
      "outputs": [
        {
          "output_type": "stream",
          "name": "stdout",
          "text": [
            "Hasil permutasi plain text : 1111111110111000011101100101011100000000000000000000011010000011\n"
          ]
        }
      ]
    },
    {
      "cell_type": "markdown",
      "source": [
        "**LANGKAH 2**\n",
        "---\n",
        "\n",
        "Memecah IP menjadi L0 dan R0"
      ],
      "metadata": {
        "id": "64L9-QopzfYb"
      }
    },
    {
      "cell_type": "code",
      "source": [
        "left_pt = pt_permutation[0:32]\n",
        "right_pt = pt_permutation[32:64]"
      ],
      "metadata": {
        "id": "iQeH1wPvmv_4"
      },
      "execution_count": null,
      "outputs": []
    },
    {
      "cell_type": "code",
      "source": [
        "print(left_pt)"
      ],
      "metadata": {
        "colab": {
          "base_uri": "https://localhost:8080/"
        },
        "id": "IgKdT4vPpzja",
        "outputId": "46ee8a6d-69c3-4de8-9e95-5338783db7f2"
      },
      "execution_count": null,
      "outputs": [
        {
          "output_type": "stream",
          "name": "stdout",
          "text": [
            "11111111101110000111011001010111\n"
          ]
        }
      ]
    },
    {
      "cell_type": "code",
      "source": [
        "print(right_pt)"
      ],
      "metadata": {
        "colab": {
          "base_uri": "https://localhost:8080/"
        },
        "id": "RHyESfOYp1nC",
        "outputId": "965d0133-8b62-4115-dc7e-c11d0c2fe2a0"
      },
      "execution_count": null,
      "outputs": [
        {
          "output_type": "stream",
          "name": "stdout",
          "text": [
            "00000000000000000000011010000011\n"
          ]
        }
      ]
    },
    {
      "cell_type": "markdown",
      "source": [
        "**BREAK**\n",
        "---\n",
        "\n",
        "Kita berhenti dulu untuk melakukan permutasi plain text. Lalu kita akan membangkitkan kunci terlebih dahulu."
      ],
      "metadata": {
        "id": "9CiO4Vu6zqn7"
      }
    },
    {
      "cell_type": "markdown",
      "source": [
        "**Masukkan Kunci berupa Hexa dengan 64 bit**"
      ],
      "metadata": {
        "id": "YRIcs87Wz4t4"
      }
    },
    {
      "cell_type": "code",
      "source": [
        "key = input(\"Masukkan Kunci dalam Hexa 64 bit : \")"
      ],
      "metadata": {
        "colab": {
          "base_uri": "https://localhost:8080/"
        },
        "id": "D-RhgQLbqFGv",
        "outputId": "576dfaa0-1b5d-4e3b-f0a5-05a0bcb69df4"
      },
      "execution_count": null,
      "outputs": [
        {
          "name": "stdout",
          "output_type": "stream",
          "text": [
            "Masukkan Kunci dalam Hexa 64 bit : 133457799bbcdff1\n"
          ]
        }
      ]
    },
    {
      "cell_type": "markdown",
      "source": [
        "**Membuat Kunci menjadi uppercase semua**"
      ],
      "metadata": {
        "id": "Pi9urioOt8jt"
      }
    },
    {
      "cell_type": "code",
      "source": [
        "key = key.upper()"
      ],
      "metadata": {
        "id": "oYLut_S4l25d"
      },
      "execution_count": null,
      "outputs": []
    },
    {
      "cell_type": "markdown",
      "source": [
        "**Inisialisasi Kunci Hexa untuk ke Binary**"
      ],
      "metadata": {
        "id": "ylA5Q7eb0L-n"
      }
    },
    {
      "cell_type": "code",
      "source": [
        "hex_to_bin = {\n",
        "        '0': '0000',\n",
        "        '1': '0001',\n",
        "        '2': '0010',\n",
        "        '3': '0011',\n",
        "        '4': '0100',\n",
        "        '5': '0101',\n",
        "        '6': '0110',\n",
        "        '7': '0111',\n",
        "        '8': '1000',\n",
        "        '9': '1001',\n",
        "        'A': '1010',\n",
        "        'B': '1011',\n",
        "        'C': '1100',\n",
        "        'D': '1101',\n",
        "        'E': '1110',\n",
        "        'F': '1111'\n",
        "    }"
      ],
      "metadata": {
        "id": "fc-pi8YHrmou"
      },
      "execution_count": null,
      "outputs": []
    },
    {
      "cell_type": "markdown",
      "source": [
        "**LANGKAH 3**\n",
        "---\n",
        "\n",
        "Kita akan membangkitkan kunci awal, dengan mengubah hexa menjadi binary"
      ],
      "metadata": {
        "id": "q9FbsxE40XLf"
      }
    },
    {
      "cell_type": "code",
      "source": [
        "bin_key = \"\"\n",
        "\n",
        "print(\"Mengubah Kunci yang berupa hexa menjadi binary\")\n",
        "for i in key:\n",
        "  bin_key += hex_to_bin[i]\n",
        "print(bin_key)"
      ],
      "metadata": {
        "colab": {
          "base_uri": "https://localhost:8080/"
        },
        "id": "d_8dN10irto7",
        "outputId": "1451b459-9724-4225-a95e-d284f5ac8852"
      },
      "execution_count": null,
      "outputs": [
        {
          "output_type": "stream",
          "name": "stdout",
          "text": [
            "Mengubah Kunci yang berupa hexa menjadi binary\n",
            "0001001100110100010101110111100110011011101111001101111111110001\n"
          ]
        }
      ]
    },
    {
      "cell_type": "code",
      "source": [
        "print(len(bin_key))"
      ],
      "metadata": {
        "colab": {
          "base_uri": "https://localhost:8080/"
        },
        "id": "vOs9SEs-Rj0K",
        "outputId": "4bf3291d-67c1-4add-9a78-6197b0cd69d1"
      },
      "execution_count": null,
      "outputs": [
        {
          "output_type": "stream",
          "name": "stdout",
          "text": [
            "64\n"
          ]
        }
      ]
    },
    {
      "cell_type": "markdown",
      "source": [
        "**Lalu Inisialisasi tabel PC-1 untuk permutasi kunci**"
      ],
      "metadata": {
        "id": "pKujD8Tj0nfI"
      }
    },
    {
      "cell_type": "code",
      "source": [
        "keyp = [57, 49, 41, 33, 25, 17, 9,\n",
        "        1, 58, 50, 42, 34, 26, 18,\n",
        "        10, 2, 59, 51, 43, 35, 27,\n",
        "        19, 11, 3, 60, 52, 44, 36,\n",
        "        63, 55, 47, 39, 31, 23, 15,\n",
        "        7, 62, 54, 46, 38, 30, 22,\n",
        "        14, 6, 61, 53, 45, 37, 29,\n",
        "        21, 13, 5, 28, 20, 12, 4]"
      ],
      "metadata": {
        "id": "EJT4HyAosJRY"
      },
      "execution_count": null,
      "outputs": []
    },
    {
      "cell_type": "markdown",
      "source": [
        "**LANGKAH 4**\n",
        "---\n",
        "\n",
        "Kita akan permutasi PC-1 dengan Key yang sudah menjadi Binary"
      ],
      "metadata": {
        "id": "SjmQrPwJ0y47"
      }
    },
    {
      "cell_type": "code",
      "source": [
        "key_permutation = \"\"\n",
        "for i in range(0, 56):\n",
        "  key_permutation += bin_key[keyp[i] - 1]\n",
        "print(\"Hasil permutasi key menjadi 56 bit : \" + key_permutation)"
      ],
      "metadata": {
        "colab": {
          "base_uri": "https://localhost:8080/"
        },
        "id": "BDW71bxstLL-",
        "outputId": "04e36762-3f89-498a-af40-79609177804c"
      },
      "execution_count": null,
      "outputs": [
        {
          "output_type": "stream",
          "name": "stdout",
          "text": [
            "Hasil permutasi key menjadi 56 bit : 11110000110011001010101011110101010101100110011110001111\n"
          ]
        }
      ]
    },
    {
      "cell_type": "code",
      "source": [
        "print(len(key_permutation))"
      ],
      "metadata": {
        "colab": {
          "base_uri": "https://localhost:8080/"
        },
        "id": "Fwik33bpuZlm",
        "outputId": "058ce1fd-089f-4917-ad1f-943adfd77725"
      },
      "execution_count": null,
      "outputs": [
        {
          "output_type": "stream",
          "name": "stdout",
          "text": [
            "56\n"
          ]
        }
      ]
    },
    {
      "cell_type": "markdown",
      "source": [
        "**LANGKAH 5**\n",
        "---\n",
        "\n",
        "Pecah Key yang sudah dimutasi menjadi C0 dan D0 masing-masing 28 bit"
      ],
      "metadata": {
        "id": "PoYPC4sa1SAU"
      }
    },
    {
      "cell_type": "code",
      "source": [
        "cKey = key_permutation[0:28]\n",
        "dKey = key_permutation[28:56]\n",
        "\n",
        "rk = []"
      ],
      "metadata": {
        "id": "bt3A3eoCuoD0"
      },
      "execution_count": null,
      "outputs": []
    },
    {
      "cell_type": "markdown",
      "source": [
        "**Lalu Menginisialisasi tabel wrapping dan tabel PC-2 untuk permutasi tiap C0 dan D0**"
      ],
      "metadata": {
        "id": "r748bmLZ1zjy"
      }
    },
    {
      "cell_type": "code",
      "source": [
        "shift_table = [1, 1, 2, 2,\n",
        "               2, 2, 2, 2,\n",
        "               1, 2, 2, 2,\n",
        "               2, 2, 2, 1]"
      ],
      "metadata": {
        "id": "P-2ebKQPV1hV"
      },
      "execution_count": null,
      "outputs": []
    },
    {
      "cell_type": "code",
      "source": [
        "key_comp = [14, 17, 11, 24, 1, 5,\n",
        "            3, 28, 15, 6, 21, 10,\n",
        "            23, 19, 12, 4, 26, 8,\n",
        "            16, 7, 27, 20, 13, 2,\n",
        "            41, 52, 31, 37, 47, 55,\n",
        "            30, 40, 51, 45, 33, 48,\n",
        "            44, 49, 39, 56, 34, 53,\n",
        "            46, 42, 50, 36, 29, 32]"
      ],
      "metadata": {
        "id": "B2UnciPHc-Zt"
      },
      "execution_count": null,
      "outputs": []
    },
    {
      "cell_type": "markdown",
      "source": [
        "**LANGKAH 6**\n",
        "---\n",
        "\n",
        "Melakukan left-shift tiap kunci hingga 16 kali dan setiap selesai melakukan left-shift akan dilakukan permutasi dengan tabel PC-2 sehingga menghasilkan K setiap iterasi"
      ],
      "metadata": {
        "id": "JcCycDrZ2IJs"
      }
    },
    {
      "cell_type": "code",
      "source": [
        "for i in range(16):\n",
        "\n",
        "  # Left Shift untuk C Key\n",
        "  cKey_shift = \"\"\n",
        "  for j in range(shift_table[i]):\n",
        "    for k in range(1, len(cKey)):\n",
        "      cKey_shift += cKey[k]\n",
        "    cKey_shift += cKey[0]\n",
        "    cKey = cKey_shift\n",
        "    cKey_shift = \"\"\n",
        "\n",
        "  # Left Shift untuk D Key\n",
        "  dKey_shift = \"\"\n",
        "  for j in range(shift_table[i]):\n",
        "    for k in range(1, len(dKey)):\n",
        "      dKey_shift += dKey[k]\n",
        "    dKey_shift += dKey[0]\n",
        "    dKey = dKey_shift\n",
        "    dKey_shift = \"\"\n",
        "\n",
        "  # Menggabungkan Kunci\n",
        "  combineKey = cKey + dKey\n",
        "\n",
        "  round_key = \"\"\n",
        "  for j in range(0, 48):\n",
        "    round_key += combineKey[key_comp[j] - 1]\n",
        "\n",
        "  print(\"Round Key ke - \" + str(i+1) + \" = \" + round_key)\n",
        "\n",
        "  rk.append(round_key)"
      ],
      "metadata": {
        "colab": {
          "base_uri": "https://localhost:8080/"
        },
        "id": "cUPKR5aoVGIE",
        "outputId": "3def40a6-e32a-4f0c-cf8a-f37e9c58a68b"
      },
      "execution_count": null,
      "outputs": [
        {
          "output_type": "stream",
          "name": "stdout",
          "text": [
            "Round Key ke - 1 = 000110110000001011101111111111000111000001110010\n",
            "Round Key ke - 2 = 011110011010111011011001110110111100100111100101\n",
            "Round Key ke - 3 = 010101011111110010001010010000101100111110011001\n",
            "Round Key ke - 4 = 011100101010110111010110110110110011010100011101\n",
            "Round Key ke - 5 = 011111001110110000000111111010110101001110101000\n",
            "Round Key ke - 6 = 011000111010010100111110010100000111101100101111\n",
            "Round Key ke - 7 = 111011001000010010110111111101100001100010111100\n",
            "Round Key ke - 8 = 111101111000101000111010110000010011101111111011\n",
            "Round Key ke - 9 = 111000001101101111101011111011011110011110000001\n",
            "Round Key ke - 10 = 101100011111001101000111101110100100011001001111\n",
            "Round Key ke - 11 = 001000010101111111010011110111101101001110000110\n",
            "Round Key ke - 12 = 011101010111000111110101100101000110011111101001\n",
            "Round Key ke - 13 = 100101111100010111010001111110101011101001000001\n",
            "Round Key ke - 14 = 010111110100001110110111111100101110011100111010\n",
            "Round Key ke - 15 = 101111111001000110001101001111010011111100001010\n",
            "Round Key ke - 16 = 110010110011110110001011000011100001011111110101\n"
          ]
        }
      ]
    },
    {
      "cell_type": "code",
      "source": [
        "print(len(rk[0]))"
      ],
      "metadata": {
        "colab": {
          "base_uri": "https://localhost:8080/"
        },
        "id": "g05prJBieyFl",
        "outputId": "df46da26-e949-4afe-bd4f-8bb46b74de97"
      },
      "execution_count": null,
      "outputs": [
        {
          "output_type": "stream",
          "name": "stdout",
          "text": [
            "48\n"
          ]
        }
      ]
    },
    {
      "cell_type": "markdown",
      "source": [
        "**LANGKAH 7**\n",
        "---\n",
        "\n",
        "Lalu kita inisialisasi tabel ekspansi 32 bit menjadi 48 bit, tabel sbox dari 1 sampai 8, dan tabel untuk permutasi P-Box"
      ],
      "metadata": {
        "id": "hpHVYlug2kJ9"
      }
    },
    {
      "cell_type": "code",
      "source": [
        "exp_d = [32, 1, 2, 3, 4, 5,\n",
        "         4, 5, 6, 7, 8, 9,\n",
        "         8, 9, 10, 11, 12, 13,\n",
        "         12, 13, 14, 15, 16, 17,\n",
        "         16, 17, 18, 19, 20, 21,\n",
        "         20, 21, 22, 23, 24, 25,\n",
        "         24, 25, 26, 27, 28, 29,\n",
        "         28, 29, 30, 31, 32, 1]"
      ],
      "metadata": {
        "id": "v5FzY9M_fAnf"
      },
      "execution_count": null,
      "outputs": []
    },
    {
      "cell_type": "code",
      "source": [
        "sbox = [[[14, 4, 13, 1, 2, 15, 11, 8, 3, 10, 6, 12, 5, 9, 0, 7],\n",
        "         [0, 15, 7, 4, 14, 2, 13, 1, 10, 6, 12, 11, 9, 5, 3, 8],\n",
        "         [4, 1, 14, 8, 13, 6, 2, 11, 15, 12, 9, 7, 3, 10, 5, 0],\n",
        "         [15, 12, 8, 2, 4, 9, 1, 7, 5, 11, 3, 14, 10, 0, 6, 13]],\n",
        "\n",
        "        [[15, 1, 8, 14, 6, 11, 3, 4, 9, 7, 2, 13, 12, 0, 5, 10],\n",
        "         [3, 13, 4, 7, 15, 2, 8, 14, 12, 0, 1, 10, 6, 9, 11, 5],\n",
        "         [0, 14, 7, 11, 10, 4, 13, 1, 5, 8, 12, 6, 9, 3, 2, 15],\n",
        "         [13, 8, 10, 1, 3, 15, 4, 2, 11, 6, 7, 12, 0, 5, 14, 9]],\n",
        "\n",
        "        [[10, 0, 9, 14, 6, 3, 15, 5, 1, 13, 12, 7, 11, 4, 2, 8],\n",
        "         [13, 7, 0, 9, 3, 4, 6, 10, 2, 8, 5, 14, 12, 11, 15, 1],\n",
        "         [13, 6, 4, 9, 8, 15, 3, 0, 11, 1, 2, 12, 5, 10, 14, 7],\n",
        "         [1, 10, 13, 0, 6, 9, 8, 7, 4, 15, 14, 3, 11, 5, 2, 12]],\n",
        "\n",
        "        [[7, 13, 14, 3, 0, 6, 9, 10, 1, 2, 8, 5, 11, 12, 4, 15],\n",
        "         [13, 8, 11, 5, 6, 15, 0, 3, 4, 7, 2, 12, 1, 10, 14, 9],\n",
        "         [10, 6, 9, 0, 12, 11, 7, 13, 15, 1, 3, 14, 5, 2, 8, 4],\n",
        "         [3, 15, 0, 6, 10, 1, 13, 8, 9, 4, 5, 11, 12, 7, 2, 14]],\n",
        "\n",
        "        [[2, 12, 4, 1, 7, 10, 11, 6, 8, 5, 3, 15, 13, 0, 14, 9],\n",
        "         [14, 11, 2, 12, 4, 7, 13, 1, 5, 0, 15, 10, 3, 9, 8, 6],\n",
        "         [4, 2, 1, 11, 10, 13, 7, 8, 15, 9, 12, 5, 6, 3, 0, 14],\n",
        "         [11, 8, 12, 7, 1, 14, 2, 13, 6, 15, 0, 9, 10, 4, 5, 3]],\n",
        "\n",
        "        [[12, 1, 10, 15, 9, 2, 6, 8, 0, 13, 3, 4, 14, 7, 5, 11],\n",
        "         [10, 15, 4, 2, 7, 12, 9, 5, 6, 1, 13, 14, 0, 11, 3, 8],\n",
        "         [9, 14, 15, 5, 2, 8, 12, 3, 7, 0, 4, 10, 1, 13, 11, 6],\n",
        "         [4, 3, 2, 12, 9, 5, 15, 10, 11, 14, 1, 7, 6, 0, 8, 13]],\n",
        "\n",
        "        [[4, 11, 2, 14, 15, 0, 8, 13, 3, 12, 9, 7, 5, 10, 6, 1],\n",
        "         [13, 0, 11, 7, 4, 9, 1, 10, 14, 3, 5, 12, 2, 15, 8, 6],\n",
        "         [1, 4, 11, 13, 12, 3, 7, 14, 10, 15, 6, 8, 0, 5, 9, 2],\n",
        "         [6, 11, 13, 8, 1, 4, 10, 7, 9, 5, 0, 15, 14, 2, 3, 12]],\n",
        "\n",
        "        [[13, 2, 8, 4, 6, 15, 11, 1, 10, 9, 3, 14, 5, 0, 12, 7],\n",
        "         [1, 15, 13, 8, 10, 3, 7, 4, 12, 5, 6, 11, 0, 14, 9, 2],\n",
        "         [7, 11, 4, 1, 9, 12, 14, 2, 0, 6, 10, 13, 15, 3, 5, 8],\n",
        "         [2, 1, 14, 7, 4, 10, 8, 13, 15, 12, 9, 0, 3, 5, 6, 11]]]"
      ],
      "metadata": {
        "id": "XevcTfA2i5q4"
      },
      "execution_count": null,
      "outputs": []
    },
    {
      "cell_type": "code",
      "source": [
        "per = [16, 7, 20, 21, 29, 12, 28, 17,\n",
        "       1, 15, 23, 26, 5, 18, 31, 10,\n",
        "       2, 8, 24, 14, 32, 27, 3, 9,\n",
        "       19, 13, 30, 6, 22, 11, 4, 25]"
      ],
      "metadata": {
        "id": "_gBrdDEzAH3Z"
      },
      "execution_count": null,
      "outputs": []
    },
    {
      "cell_type": "markdown",
      "source": [
        "**LANGKAH 8**\n",
        "---\n",
        "\n",
        "Kita mulai melakukan enciphering sampai ke 16 dengan detail skema fungsinya"
      ],
      "metadata": {
        "id": "3rSmy-eN3-Qs"
      }
    },
    {
      "cell_type": "code",
      "source": [
        "for i in range(0, 16):\n",
        "  print(\"Enciphering tahap - \" + str(i + 1))\n",
        "  right_pt_expanded = \"\"\n",
        "\n",
        "  # Ini akan melakukan Ekspansi dari R0 (Kunci yang kanan)\n",
        "  print(\"R\" + str(i) + \"    = \" + right_pt)\n",
        "  for j in range(0, 48):\n",
        "    right_pt_expanded += right_pt[exp_d[j] - 1]\n",
        "\n",
        "  print(\"E(R\" + str(i) + \") = \" + right_pt_expanded)\n",
        "  print(\"K\" + str(i+1) + \"    = \" + rk[i])\n",
        "  print(\"==========================================================================\")\n",
        "\n",
        "  # Lalu akan melakukan xor untuk hasil Ekspansi R0 dengan Kunci\n",
        "  xor = \"\"\n",
        "  for k in range(len(right_pt_expanded)):\n",
        "    if right_pt_expanded[k] == rk[i][k]:\n",
        "      xor += \"0\"\n",
        "    else:\n",
        "      xor += \"1\"\n",
        "\n",
        "  print(\"A\" + str(i+1) + \"    = \" + xor)\n",
        "\n",
        "  # Lalu hasil dari xor akan disubstitusikan dengan tabel sbox tiap 6 bit\n",
        "  # sesuai dengan jumlah tabel s-box yaitu 8 kali iterasi\n",
        "  sbox_str = \"\"\n",
        "  for l in range(0, 8):\n",
        "    row = bin_to_dec(xor[l * 6] + xor[l * 6 + 5])\n",
        "    col = bin_to_dec(xor[l * 6 + 1] + xor[l * 6 + 2] + xor[l * 6 + 3] + xor[l * 6 + 4])\n",
        "\n",
        "    val = sbox[l][row][col]\n",
        "    sbox_str += dec_to_bin(val)\n",
        "\n",
        "  print(\"B\" + str(i+1) + \"    = \" + sbox_str)\n",
        "\n",
        "  # Hasil substitusi akan dipermutasi dengan matriks permutasi P(P-box)\n",
        "  sbox_perm = \"\"\n",
        "  for m in range(0, 32):\n",
        "    sbox_perm += sbox_str[per[m] - 1]\n",
        "\n",
        "  print()\n",
        "  print(\"P(B\" + str(i+1) + \") = \" + sbox_perm)\n",
        "  print(\"L\" + str(i) + \"    = \" + left_pt)\n",
        "  print(\"==========================================================================\")\n",
        "\n",
        "  # Lalu hasil permutasi tadi akan dilakukan operasi xor dengan key bagian Kiri\n",
        "  # Operasi xor Ln dengan hasil permutasi s-box tadi\n",
        "  result = \"\"\n",
        "  for n in range(len(left_pt)):\n",
        "    if left_pt[n] == sbox_perm[n]:\n",
        "      result += \"0\"\n",
        "    else:\n",
        "      result += \"1\"\n",
        "\n",
        "  # Disimpan sementara ke Ln\n",
        "  left_pt = result\n",
        "\n",
        "  # Lalu jika iterasi belum sampai ke 16 maka akan dilakukan swap\n",
        "  if(i != 15):\n",
        "    left_pt, right_pt = right_pt, left_pt\n",
        "\n",
        "  print(\"R\" + str(i+1) + \"    = \" + right_pt)\n",
        "  print(\"L\" + str(i+1) + \"    = \" + left_pt)\n",
        "  print()"
      ],
      "metadata": {
        "colab": {
          "base_uri": "https://localhost:8080/"
        },
        "id": "tuMdl-58hEEJ",
        "outputId": "7c2f7b74-3cfa-4e7e-cd83-86308ecf99a8"
      },
      "execution_count": null,
      "outputs": [
        {
          "output_type": "stream",
          "name": "stdout",
          "text": [
            "Enciphering tahap - 1\n",
            "R0    = 00000000000000000000011010000011\n",
            "E(R0) = 100000000000000000000000000000001101010000000110\n",
            "K1    = 000110110000001011101111111111000111000001110010\n",
            "==========================================================================\n",
            "A1    = 100110110000001011101111111111001010010001110100\n",
            "B1    = 10000101010010000011001011101010\n",
            "\n",
            "P(B1) = 00101000101100110100010011010001\n",
            "L0    = 11111111101110000111011001010111\n",
            "==========================================================================\n",
            "R1    = 11010111000010110011001010000110\n",
            "L1    = 00000000000000000000011010000011\n",
            "\n",
            "Enciphering tahap - 2\n",
            "R1    = 11010111000010110011001010000110\n",
            "E(R1) = 011010101110100001010110100110100101010000001101\n",
            "K2    = 011110011010111011011001110110111100100111100101\n",
            "==========================================================================\n",
            "A2    = 000100110100011010001111010000011001110111101000\n",
            "B2    = 11011100010000111000000011111001\n",
            "\n",
            "P(B2) = 10001011110110011000110000010011\n",
            "L1    = 00000000000000000000011010000011\n",
            "==========================================================================\n",
            "R2    = 10001011110110011000101010010000\n",
            "L2    = 11010111000010110011001010000110\n",
            "\n",
            "Enciphering tahap - 3\n",
            "R2    = 10001011110110011000101010010000\n",
            "E(R2) = 010001010111111011110011110001010101010010100001\n",
            "K3    = 010101011111110010001010010000101100111110011001\n",
            "==========================================================================\n",
            "A3    = 000100001000001001111001100001111001101100111000\n",
            "B3    = 11010110001111001011011001111111\n",
            "\n",
            "P(B3) = 01101111101100101001110011111110\n",
            "L2    = 11010111000010110011001010000110\n",
            "==========================================================================\n",
            "R3    = 10111000101110011010111001111000\n",
            "L3    = 10001011110110011000101010010000\n",
            "\n",
            "Enciphering tahap - 4\n",
            "R3    = 10111000101110011010111001111000\n",
            "E(R3) = 010111110001010111110011110101011100001111110001\n",
            "K4    = 011100101010110111010110110110110011010100011101\n",
            "==========================================================================\n",
            "A4    = 001011011011100000100101000011101111011011101100\n",
            "B4    = 00101001110100001011101011111110\n",
            "\n",
            "P(B4) = 00111111001110110100011110100001\n",
            "L3    = 10001011110110011000101010010000\n",
            "==========================================================================\n",
            "R4    = 10110100111000101100110100110001\n",
            "L4    = 10111000101110011010111001111000\n",
            "\n",
            "Enciphering tahap - 5\n",
            "R4    = 10110100111000101100110100110001\n",
            "E(R4) = 110110101001011100000101011001011010100110100011\n",
            "K5    = 011111001110110000000111111010110101001110101000\n",
            "==========================================================================\n",
            "A5    = 101001100111101100000010100011101111101000001011\n",
            "B5    = 01000001001111011000101011000011\n",
            "\n",
            "P(B5) = 10010101001100101101100001000101\n",
            "L4    = 10111000101110011010111001111000\n",
            "==========================================================================\n",
            "R5    = 00101101100010110111011000111101\n",
            "L5    = 10110100111000101100110100110001\n",
            "\n",
            "Enciphering tahap - 6\n",
            "R5    = 00101101100010110111011000111101\n",
            "E(R5) = 100101011011110001010110101110101100000111111010\n",
            "K6    = 011000111010010100111110010100000111101100101111\n",
            "==========================================================================\n",
            "A6    = 111101100001100101101000111010101011101011010101\n",
            "B6    = 01101101110111000011010101000110\n",
            "\n",
            "P(B6) = 00100100000110111111001111111000\n",
            "L5    = 10110100111000101100110100110001\n",
            "==========================================================================\n",
            "R6    = 10010000111110010011111011001001\n",
            "L6    = 00101101100010110111011000111101\n",
            "\n",
            "Enciphering tahap - 7\n",
            "R6    = 10010000111110010011111011001001\n",
            "E(R6) = 110010100001011111110010100111111101011001010011\n",
            "K7    = 111011001000010010110111111101100001100010111100\n",
            "==========================================================================\n",
            "A7    = 001001101001001101000101011010011100111011101111\n",
            "B7    = 11100011011010110000010100101101\n",
            "\n",
            "P(B7) = 11001000110000011110111001101100\n",
            "L6    = 00101101100010110111011000111101\n",
            "==========================================================================\n",
            "R7    = 11100101010010101001100001010001\n",
            "L7    = 10010000111110010011111011001001\n",
            "\n",
            "Enciphering tahap - 8\n",
            "R7    = 11100101010010101001100001010001\n",
            "E(R7) = 111100001010101001010101010011110000001010100011\n",
            "K8    = 111101111000101000111010110000010011101111111011\n",
            "==========================================================================\n",
            "A8    = 000001110010000001101111100011100011100101011000\n",
            "B8    = 00001000110110001000001111010101\n",
            "\n",
            "P(B8) = 00000111001110010010100101100001\n",
            "L7    = 10010000111110010011111011001001\n",
            "==========================================================================\n",
            "R8    = 10010111110000000001011110101000\n",
            "L8    = 11100101010010101001100001010001\n",
            "\n",
            "Enciphering tahap - 9\n",
            "R8    = 10010111110000000001011110101000\n",
            "E(R8) = 010010101111111000000000000010101111110101010001\n",
            "K9    = 111000001101101111101011111011011110011110000001\n",
            "==========================================================================\n",
            "A9    = 101010100010010111101011111001110001101011010000\n",
            "B9    = 01101110111000011010101101001010\n",
            "\n",
            "P(B9) = 11011001001110111010001110010100\n",
            "L8    = 11100101010010101001100001010001\n",
            "==========================================================================\n",
            "R9    = 00111100011100010011101111000101\n",
            "L9    = 10010111110000000001011110101000\n",
            "\n",
            "Enciphering tahap - 10\n",
            "R9    = 00111100011100010011101111000101\n",
            "E(R9) = 100111111000001110100010100111110111111000001010\n",
            "K10    = 101100011111001101000111101110100100011001001111\n",
            "==========================================================================\n",
            "A10    = 001011100111000011100101001001010011100001000101\n",
            "B10    = 00100001011100000100000101101101\n",
            "\n",
            "P(B10) = 00001100000101010110111000100100\n",
            "L9    = 10010111110000000001011110101000\n",
            "==========================================================================\n",
            "R10    = 10011011110101010111100110001100\n",
            "L10    = 00111100011100010011101111000101\n",
            "\n",
            "Enciphering tahap - 11\n",
            "R10    = 10011011110101010111100110001100\n",
            "E(R10) = 010011110111111010101010101111110011110001011001\n",
            "K11    = 001000010101111111010011110111101101001110000110\n",
            "==========================================================================\n",
            "A11    = 011011100010000101111001011000011110111111011111\n",
            "B11    = 01011110000011001101101111000010\n",
            "\n",
            "P(B11) = 01110001001111101011000001010011\n",
            "L10    = 00111100011100010011101111000101\n",
            "==========================================================================\n",
            "R11    = 01001101010011111000101110010110\n",
            "L11    = 10011011110101010111100110001100\n",
            "\n",
            "Enciphering tahap - 12\n",
            "R11    = 01001101010011111000101110010110\n",
            "E(R11) = 001001011010101001011111110001010111110010101100\n",
            "K12    = 011101010111000111110101100101000110011111101001\n",
            "==========================================================================\n",
            "A12    = 010100001101101110101010010100010001101101000101\n",
            "B12    = 01101000000010110011011010101101\n",
            "\n",
            "P(B12) = 10101000011010001000111011101001\n",
            "L11    = 10011011110101010111100110001100\n",
            "==========================================================================\n",
            "R12    = 00110011101111011111011101100101\n",
            "L12    = 01001101010011111000101110010110\n",
            "\n",
            "Enciphering tahap - 13\n",
            "R12    = 00110011101111011111011101100101\n",
            "E(R12) = 100110100111110111111011111110101110101100001010\n",
            "K13    = 100101111100010111010001111110101011101001000001\n",
            "==========================================================================\n",
            "A13    = 000011011011100000101010000000000101000101001011\n",
            "B13    = 11111001110110110010010010110011\n",
            "\n",
            "P(B13) = 10000110110010111100111111001011\n",
            "L12    = 01001101010011111000101110010110\n",
            "==========================================================================\n",
            "R13    = 11001011100001000100010001011101\n",
            "L13    = 00110011101111011111011101100101\n",
            "\n",
            "Enciphering tahap - 14\n",
            "R13    = 11001011100001000100010001011101\n",
            "E(R13) = 111001010111110000001000001000001000001011111011\n",
            "K14    = 010111110100001110110111111100101110011100111010\n",
            "==========================================================================\n",
            "A14    = 101110100011111110111111110100100110010111000001\n",
            "B14    = 10111000011111101100010111000001\n",
            "\n",
            "P(B14) = 00000101110111010011101001001111\n",
            "L13    = 00110011101111011111011101100101\n",
            "==========================================================================\n",
            "R14    = 00110110011000001100110100101010\n",
            "L14    = 11001011100001000100010001011101\n",
            "\n",
            "Enciphering tahap - 15\n",
            "R14    = 00110110011000001100110100101010\n",
            "E(R14) = 000110101100001100000001011001011010100101010100\n",
            "K15    = 101111111001000110001101001111010011111100001010\n",
            "==========================================================================\n",
            "A15    = 101001010101001010001100010110001001011001011110\n",
            "B15    = 01000001001110011111011100100111\n",
            "\n",
            "P(B15) = 10100101001001101110110011101100\n",
            "L14    = 11001011100001000100010001011101\n",
            "==========================================================================\n",
            "R15    = 01101110101000101010100010110001\n",
            "L15    = 00110110011000001100110100101010\n",
            "\n",
            "Enciphering tahap - 16\n",
            "R15    = 01101110101000101010100010110001\n",
            "E(R15) = 101101011101010100000101010101010001010110100010\n",
            "K16    = 110010110011110110001011000011100001011111110101\n",
            "==========================================================================\n",
            "A16    = 011111101110100010001110010110110000001001010111\n",
            "B16    = 10000001011010101111011101001011\n",
            "\n",
            "P(B16) = 00101001111101110110100011001100\n",
            "L15    = 00110110011000001100110100101010\n",
            "==========================================================================\n",
            "R16    = 01101110101000101010100010110001\n",
            "L16    = 00011111100101111010010111100110\n",
            "\n"
          ]
        }
      ]
    },
    {
      "cell_type": "markdown",
      "source": [
        "**LANGKAH 9 (TERAKHIR)**\n",
        "---\n",
        "\n",
        "Setelah mendapatkan L16 dan R16 maka digabungkan dan akan dilakukan permutasi final dengan tabel invers permutasi"
      ],
      "metadata": {
        "id": "wl7lOrXy5sLF"
      }
    },
    {
      "cell_type": "code",
      "source": [
        "combine_pt = left_pt + right_pt"
      ],
      "metadata": {
        "id": "JL-I4HnltJcZ"
      },
      "execution_count": null,
      "outputs": []
    },
    {
      "cell_type": "code",
      "source": [
        "print(combine_pt)"
      ],
      "metadata": {
        "colab": {
          "base_uri": "https://localhost:8080/"
        },
        "id": "OTx9Xlx7xGjL",
        "outputId": "09ed5999-2251-4e94-9140-2a53d885e57b"
      },
      "execution_count": null,
      "outputs": [
        {
          "output_type": "stream",
          "name": "stdout",
          "text": [
            "0001111110010111101001011110011001101110101000101010100010110001\n"
          ]
        }
      ]
    },
    {
      "cell_type": "code",
      "source": [
        "print(len(combine_pt))"
      ],
      "metadata": {
        "colab": {
          "base_uri": "https://localhost:8080/"
        },
        "id": "CZy-ISj_xKES",
        "outputId": "601bbdec-00e8-4313-c1f4-b268f6c84196"
      },
      "execution_count": null,
      "outputs": [
        {
          "output_type": "stream",
          "name": "stdout",
          "text": [
            "64\n"
          ]
        }
      ]
    },
    {
      "cell_type": "code",
      "source": [
        "final_perm = [40, 8, 48, 16, 56, 24, 64, 32,\n",
        "              39, 7, 47, 15, 55, 23, 63, 31,\n",
        "              38, 6, 46, 14, 54, 22, 62, 30,\n",
        "              37, 5, 45, 13, 53, 21, 61, 29,\n",
        "              36, 4, 44, 12, 52, 20, 60, 28,\n",
        "              35, 3, 43, 11, 51, 19, 59, 27,\n",
        "              34, 2, 42, 10, 50, 18, 58, 26,\n",
        "              33, 1, 41, 9, 49, 17, 57, 25]"
      ],
      "metadata": {
        "id": "j6XZ6FWwxMIP"
      },
      "execution_count": null,
      "outputs": []
    },
    {
      "cell_type": "markdown",
      "source": [
        "**Dilakukan Permutasi Final dengan tabel invers permutasi**"
      ],
      "metadata": {
        "id": "2wVVNkWH6lhO"
      }
    },
    {
      "cell_type": "code",
      "source": [
        "cipher_text = \"\"\n",
        "for i in range(64):\n",
        "  cipher_text += combine_pt[final_perm[i] - 1]"
      ],
      "metadata": {
        "id": "OgqC9khwxTZO"
      },
      "execution_count": null,
      "outputs": []
    },
    {
      "cell_type": "markdown",
      "source": [
        "**Dan akan menghasilkan Cipher Text dalam bentuk Binary**"
      ],
      "metadata": {
        "id": "XfO0lGUQ66vE"
      }
    },
    {
      "cell_type": "code",
      "source": [
        "print(cipher_text)"
      ],
      "metadata": {
        "colab": {
          "base_uri": "https://localhost:8080/"
        },
        "id": "fwPm_npwx5JQ",
        "outputId": "5450b856-d689-4202-ccf2-9d6c4f08aee3"
      },
      "execution_count": null,
      "outputs": [
        {
          "output_type": "stream",
          "name": "stdout",
          "text": [
            "0101011011110001110101011100100001010010101011111000000100111111\n"
          ]
        }
      ]
    },
    {
      "cell_type": "code",
      "source": [
        "print(len(cipher_text))"
      ],
      "metadata": {
        "colab": {
          "base_uri": "https://localhost:8080/"
        },
        "id": "-f_rK4qbx9DQ",
        "outputId": "eaab6d5b-9764-4f0b-fc60-25845ec9f085"
      },
      "execution_count": null,
      "outputs": [
        {
          "output_type": "stream",
          "name": "stdout",
          "text": [
            "64\n"
          ]
        }
      ]
    },
    {
      "cell_type": "markdown",
      "source": [
        "**PROSES DEKRIPSI DES**\n",
        "---\n",
        "\n",
        "Untuk proses dekripsi DES hanya melakukan iterasi yang sama tetapi menggunakan kunci yang terbalik.\n",
        "Sehingga untuk K16 nanti akan menjadi K1 begitupun seterusnya"
      ],
      "metadata": {
        "id": "IZz5Dl6O7vPb"
      }
    },
    {
      "cell_type": "markdown",
      "source": [
        "**LANGKAH 1**\n",
        "---\n",
        "\n",
        "Mengambil Kunci yang sudah ada dan dimasukkan secara reverse atau terbalik agar mendapatkan K1 = K16"
      ],
      "metadata": {
        "id": "S4D1Ph6J8fOv"
      }
    },
    {
      "cell_type": "code",
      "source": [
        "rk_reverse = rk[::-1]"
      ],
      "metadata": {
        "id": "N2Ngvqalx_7M"
      },
      "execution_count": null,
      "outputs": []
    },
    {
      "cell_type": "markdown",
      "source": [
        "**LANGKAH 2**\n",
        "---\n",
        "\n",
        "Lakukan permutasi cipher text dengan tabel initial permutation"
      ],
      "metadata": {
        "id": "GFffqs9r8yJc"
      }
    },
    {
      "cell_type": "code",
      "source": [
        "ct_bin = \"\"\n",
        "for i in range(64):\n",
        "  ct_bin += cipher_text[initial_perm[i] - 1]"
      ],
      "metadata": {
        "id": "8Eyg1WVS64sE"
      },
      "execution_count": null,
      "outputs": []
    },
    {
      "cell_type": "markdown",
      "source": [
        "**LANGKAH 3**\n",
        "---\n",
        "\n",
        "Membagi cipher text yang sudah dilakukan Permutasi menjadi L0 dan R0 dengan masing-masing 32 bit"
      ],
      "metadata": {
        "id": "9vttfE5d9Vai"
      }
    },
    {
      "cell_type": "code",
      "source": [
        "ct_left = ct_bin[0:32]\n",
        "ct_right = ct_bin[32:64]"
      ],
      "metadata": {
        "id": "h94Ksa7q0Jcr"
      },
      "execution_count": null,
      "outputs": []
    },
    {
      "cell_type": "markdown",
      "source": [
        "**LANGKAH 4**\n",
        "---\n",
        "\n",
        "Melakukan Proses Deciphering dengan menggunakan kunci yang sudah direverse.\n",
        "\n",
        "Proses Deciphering sama saja dengan proses Enciphering"
      ],
      "metadata": {
        "id": "Dj2DFaOo9k67"
      }
    },
    {
      "cell_type": "code",
      "source": [
        "for i in range(0, 16):\n",
        "  print(\"Deciphering tahap - \" + str(i + 1))\n",
        "  ct_right_expanded = \"\"\n",
        "\n",
        "  # Ini akan melakukan Ekspansi dari R0 (Kunci yang kanan)\n",
        "  print(\"R\" + str(i) + \"    = \" + right_pt)\n",
        "  for j in range(0, 48):\n",
        "    ct_right_expanded += ct_right[exp_d[j] - 1]\n",
        "\n",
        "  print(\"E(R\" + str(i) + \") = \" + ct_right_expanded)\n",
        "  print(\"K\" + str(i+1) + \"    = \" + rk_reverse[i])\n",
        "  print(\"==========================================================================\")\n",
        "\n",
        "  # Lalu akan melakukan xor untuk hasil Ekspansi R0 dengan Kunci\n",
        "  xor = \"\"\n",
        "  for k in range(len(ct_right_expanded)):\n",
        "    if ct_right_expanded[k] == rk_reverse[i][k]:\n",
        "      xor += \"0\"\n",
        "    else:\n",
        "      xor += \"1\"\n",
        "\n",
        "  print(\"A\" + str(i+1) + \"    = \" + xor)\n",
        "\n",
        "  # Lalu hasil dari xor akan disubstitusikan dengan tabel sbox tiap 6 bit\n",
        "  # sesuai dengan jumlah tabel s-box yaitu 8 kali iterasi\n",
        "  sbox_str = \"\"\n",
        "  for l in range(0, 8):\n",
        "    row = bin_to_dec(xor[l * 6] + xor[l * 6 + 5])\n",
        "    col = bin_to_dec(xor[l * 6 + 1] + xor[l * 6 + 2] + xor[l * 6 + 3] + xor[l * 6 + 4])\n",
        "\n",
        "    val = sbox[l][row][col]\n",
        "    sbox_str += dec_to_bin(val)\n",
        "\n",
        "  print(\"B\" + str(i+1) + \"    = \" + sbox_str)\n",
        "\n",
        "  # Hasil substitusi akan dipermutasi dengan matriks permutasi P(P-box)\n",
        "  sbox_perm = \"\"\n",
        "  for m in range(0, 32):\n",
        "    sbox_perm += sbox_str[per[m] - 1]\n",
        "\n",
        "  print()\n",
        "  print(\"P(B\" + str(i+1) + \") = \" + sbox_perm)\n",
        "  print(\"L\" + str(i) + \"    = \" + ct_left)\n",
        "  print(\"==========================================================================\")\n",
        "\n",
        "  # Lalu hasil permutasi tadi akan dilakukan operasi xor dengan key bagian Kiri\n",
        "  # Operasi xor Ln dengan hasil permutasi s-box tadi\n",
        "  result = \"\"\n",
        "  for n in range(len(ct_left)):\n",
        "    if ct_left[n] == sbox_perm[n]:\n",
        "      result += \"0\"\n",
        "    else:\n",
        "      result += \"1\"\n",
        "\n",
        "  # Disimpan sementara ke Ln\n",
        "  ct_left = result\n",
        "\n",
        "  # Lalu jika iterasi belum sampai ke 16 maka akan dilakukan swap\n",
        "  if(i != 15):\n",
        "    ct_left, ct_right = ct_right, ct_left\n",
        "\n",
        "  print(\"R\" + str(i+1) + \"    = \" + ct_right)\n",
        "  print(\"L\" + str(i+1) + \"    = \" + ct_left)\n",
        "  print()"
      ],
      "metadata": {
        "colab": {
          "base_uri": "https://localhost:8080/"
        },
        "id": "LIaqB8n8zYuv",
        "outputId": "08f138dd-8c29-4726-8f07-a5559a49df79"
      },
      "execution_count": null,
      "outputs": [
        {
          "output_type": "stream",
          "name": "stdout",
          "text": [
            "Deciphering tahap - 1\n",
            "R0    = 01101110101000101010100010110001\n",
            "E(R0) = 101101011101010100000101010101010001010110100010\n",
            "K1    = 110010110011110110001011000011100001011111110101\n",
            "==========================================================================\n",
            "A1    = 011111101110100010001110010110110000001001010111\n",
            "B1    = 10000001011010101111011101001011\n",
            "\n",
            "P(B1) = 00101001111101110110100011001100\n",
            "L0    = 00011111100101111010010111100110\n",
            "==========================================================================\n",
            "R1    = 00110110011000001100110100101010\n",
            "L1    = 01101110101000101010100010110001\n",
            "\n",
            "Deciphering tahap - 2\n",
            "R1    = 01101110101000101010100010110001\n",
            "E(R1) = 000110101100001100000001011001011010100101010100\n",
            "K2    = 101111111001000110001101001111010011111100001010\n",
            "==========================================================================\n",
            "A2    = 101001010101001010001100010110001001011001011110\n",
            "B2    = 01000001001110011111011100100111\n",
            "\n",
            "P(B2) = 10100101001001101110110011101100\n",
            "L1    = 01101110101000101010100010110001\n",
            "==========================================================================\n",
            "R2    = 11001011100001000100010001011101\n",
            "L2    = 00110110011000001100110100101010\n",
            "\n",
            "Deciphering tahap - 3\n",
            "R2    = 01101110101000101010100010110001\n",
            "E(R2) = 111001010111110000001000001000001000001011111011\n",
            "K3    = 010111110100001110110111111100101110011100111010\n",
            "==========================================================================\n",
            "A3    = 101110100011111110111111110100100110010111000001\n",
            "B3    = 10111000011111101100010111000001\n",
            "\n",
            "P(B3) = 00000101110111010011101001001111\n",
            "L2    = 00110110011000001100110100101010\n",
            "==========================================================================\n",
            "R3    = 00110011101111011111011101100101\n",
            "L3    = 11001011100001000100010001011101\n",
            "\n",
            "Deciphering tahap - 4\n",
            "R3    = 01101110101000101010100010110001\n",
            "E(R3) = 100110100111110111111011111110101110101100001010\n",
            "K4    = 100101111100010111010001111110101011101001000001\n",
            "==========================================================================\n",
            "A4    = 000011011011100000101010000000000101000101001011\n",
            "B4    = 11111001110110110010010010110011\n",
            "\n",
            "P(B4) = 10000110110010111100111111001011\n",
            "L3    = 11001011100001000100010001011101\n",
            "==========================================================================\n",
            "R4    = 01001101010011111000101110010110\n",
            "L4    = 00110011101111011111011101100101\n",
            "\n",
            "Deciphering tahap - 5\n",
            "R4    = 01101110101000101010100010110001\n",
            "E(R4) = 001001011010101001011111110001010111110010101100\n",
            "K5    = 011101010111000111110101100101000110011111101001\n",
            "==========================================================================\n",
            "A5    = 010100001101101110101010010100010001101101000101\n",
            "B5    = 01101000000010110011011010101101\n",
            "\n",
            "P(B5) = 10101000011010001000111011101001\n",
            "L4    = 00110011101111011111011101100101\n",
            "==========================================================================\n",
            "R5    = 10011011110101010111100110001100\n",
            "L5    = 01001101010011111000101110010110\n",
            "\n",
            "Deciphering tahap - 6\n",
            "R5    = 01101110101000101010100010110001\n",
            "E(R5) = 010011110111111010101010101111110011110001011001\n",
            "K6    = 001000010101111111010011110111101101001110000110\n",
            "==========================================================================\n",
            "A6    = 011011100010000101111001011000011110111111011111\n",
            "B6    = 01011110000011001101101111000010\n",
            "\n",
            "P(B6) = 01110001001111101011000001010011\n",
            "L5    = 01001101010011111000101110010110\n",
            "==========================================================================\n",
            "R6    = 00111100011100010011101111000101\n",
            "L6    = 10011011110101010111100110001100\n",
            "\n",
            "Deciphering tahap - 7\n",
            "R6    = 01101110101000101010100010110001\n",
            "E(R6) = 100111111000001110100010100111110111111000001010\n",
            "K7    = 101100011111001101000111101110100100011001001111\n",
            "==========================================================================\n",
            "A7    = 001011100111000011100101001001010011100001000101\n",
            "B7    = 00100001011100000100000101101101\n",
            "\n",
            "P(B7) = 00001100000101010110111000100100\n",
            "L6    = 10011011110101010111100110001100\n",
            "==========================================================================\n",
            "R7    = 10010111110000000001011110101000\n",
            "L7    = 00111100011100010011101111000101\n",
            "\n",
            "Deciphering tahap - 8\n",
            "R7    = 01101110101000101010100010110001\n",
            "E(R7) = 010010101111111000000000000010101111110101010001\n",
            "K8    = 111000001101101111101011111011011110011110000001\n",
            "==========================================================================\n",
            "A8    = 101010100010010111101011111001110001101011010000\n",
            "B8    = 01101110111000011010101101001010\n",
            "\n",
            "P(B8) = 11011001001110111010001110010100\n",
            "L7    = 00111100011100010011101111000101\n",
            "==========================================================================\n",
            "R8    = 11100101010010101001100001010001\n",
            "L8    = 10010111110000000001011110101000\n",
            "\n",
            "Deciphering tahap - 9\n",
            "R8    = 01101110101000101010100010110001\n",
            "E(R8) = 111100001010101001010101010011110000001010100011\n",
            "K9    = 111101111000101000111010110000010011101111111011\n",
            "==========================================================================\n",
            "A9    = 000001110010000001101111100011100011100101011000\n",
            "B9    = 00001000110110001000001111010101\n",
            "\n",
            "P(B9) = 00000111001110010010100101100001\n",
            "L8    = 10010111110000000001011110101000\n",
            "==========================================================================\n",
            "R9    = 10010000111110010011111011001001\n",
            "L9    = 11100101010010101001100001010001\n",
            "\n",
            "Deciphering tahap - 10\n",
            "R9    = 01101110101000101010100010110001\n",
            "E(R9) = 110010100001011111110010100111111101011001010011\n",
            "K10    = 111011001000010010110111111101100001100010111100\n",
            "==========================================================================\n",
            "A10    = 001001101001001101000101011010011100111011101111\n",
            "B10    = 11100011011010110000010100101101\n",
            "\n",
            "P(B10) = 11001000110000011110111001101100\n",
            "L9    = 11100101010010101001100001010001\n",
            "==========================================================================\n",
            "R10    = 00101101100010110111011000111101\n",
            "L10    = 10010000111110010011111011001001\n",
            "\n",
            "Deciphering tahap - 11\n",
            "R10    = 01101110101000101010100010110001\n",
            "E(R10) = 100101011011110001010110101110101100000111111010\n",
            "K11    = 011000111010010100111110010100000111101100101111\n",
            "==========================================================================\n",
            "A11    = 111101100001100101101000111010101011101011010101\n",
            "B11    = 01101101110111000011010101000110\n",
            "\n",
            "P(B11) = 00100100000110111111001111111000\n",
            "L10    = 10010000111110010011111011001001\n",
            "==========================================================================\n",
            "R11    = 10110100111000101100110100110001\n",
            "L11    = 00101101100010110111011000111101\n",
            "\n",
            "Deciphering tahap - 12\n",
            "R11    = 01101110101000101010100010110001\n",
            "E(R11) = 110110101001011100000101011001011010100110100011\n",
            "K12    = 011111001110110000000111111010110101001110101000\n",
            "==========================================================================\n",
            "A12    = 101001100111101100000010100011101111101000001011\n",
            "B12    = 01000001001111011000101011000011\n",
            "\n",
            "P(B12) = 10010101001100101101100001000101\n",
            "L11    = 00101101100010110111011000111101\n",
            "==========================================================================\n",
            "R12    = 10111000101110011010111001111000\n",
            "L12    = 10110100111000101100110100110001\n",
            "\n",
            "Deciphering tahap - 13\n",
            "R12    = 01101110101000101010100010110001\n",
            "E(R12) = 010111110001010111110011110101011100001111110001\n",
            "K13    = 011100101010110111010110110110110011010100011101\n",
            "==========================================================================\n",
            "A13    = 001011011011100000100101000011101111011011101100\n",
            "B13    = 00101001110100001011101011111110\n",
            "\n",
            "P(B13) = 00111111001110110100011110100001\n",
            "L12    = 10110100111000101100110100110001\n",
            "==========================================================================\n",
            "R13    = 10001011110110011000101010010000\n",
            "L13    = 10111000101110011010111001111000\n",
            "\n",
            "Deciphering tahap - 14\n",
            "R13    = 01101110101000101010100010110001\n",
            "E(R13) = 010001010111111011110011110001010101010010100001\n",
            "K14    = 010101011111110010001010010000101100111110011001\n",
            "==========================================================================\n",
            "A14    = 000100001000001001111001100001111001101100111000\n",
            "B14    = 11010110001111001011011001111111\n",
            "\n",
            "P(B14) = 01101111101100101001110011111110\n",
            "L13    = 10111000101110011010111001111000\n",
            "==========================================================================\n",
            "R14    = 11010111000010110011001010000110\n",
            "L14    = 10001011110110011000101010010000\n",
            "\n",
            "Deciphering tahap - 15\n",
            "R14    = 01101110101000101010100010110001\n",
            "E(R14) = 011010101110100001010110100110100101010000001101\n",
            "K15    = 011110011010111011011001110110111100100111100101\n",
            "==========================================================================\n",
            "A15    = 000100110100011010001111010000011001110111101000\n",
            "B15    = 11011100010000111000000011111001\n",
            "\n",
            "P(B15) = 10001011110110011000110000010011\n",
            "L14    = 10001011110110011000101010010000\n",
            "==========================================================================\n",
            "R15    = 00000000000000000000011010000011\n",
            "L15    = 11010111000010110011001010000110\n",
            "\n",
            "Deciphering tahap - 16\n",
            "R15    = 01101110101000101010100010110001\n",
            "E(R15) = 100000000000000000000000000000001101010000000110\n",
            "K16    = 000110110000001011101111111111000111000001110010\n",
            "==========================================================================\n",
            "A16    = 100110110000001011101111111111001010010001110100\n",
            "B16    = 10000101010010000011001011101010\n",
            "\n",
            "P(B16) = 00101000101100110100010011010001\n",
            "L15    = 11010111000010110011001010000110\n",
            "==========================================================================\n",
            "R16    = 00000000000000000000011010000011\n",
            "L16    = 11111111101110000111011001010111\n",
            "\n"
          ]
        }
      ]
    },
    {
      "cell_type": "markdown",
      "source": [
        "**LANGKAH 5**\n",
        "---\n",
        "\n",
        "Menggabungkan L16 dan R16 dari proses Deciphering tadi"
      ],
      "metadata": {
        "id": "AWPch2hX-PUi"
      }
    },
    {
      "cell_type": "code",
      "source": [
        "combine_text = ct_left + ct_right"
      ],
      "metadata": {
        "id": "xLnIcoXo2NvR"
      },
      "execution_count": null,
      "outputs": []
    },
    {
      "cell_type": "code",
      "source": [
        "print(combine_text)"
      ],
      "metadata": {
        "colab": {
          "base_uri": "https://localhost:8080/"
        },
        "id": "19OuuJAY2Zcm",
        "outputId": "afae2122-10fb-45fd-bf28-9ea6f42514db"
      },
      "execution_count": null,
      "outputs": [
        {
          "output_type": "stream",
          "name": "stdout",
          "text": [
            "1111111110111000011101100101011100000000000000000000011010000011\n"
          ]
        }
      ]
    },
    {
      "cell_type": "markdown",
      "source": [
        "**LANGKAH 6**\n",
        "---\n",
        "\n",
        "Melakukan permutasi final dengan menggunakan tabel invers permutasi"
      ],
      "metadata": {
        "id": "qJJYOJN2-XSs"
      }
    },
    {
      "cell_type": "code",
      "source": [
        "text = \"\"\n",
        "for i in range(64):\n",
        "  text += combine_text[final_perm[i] - 1]"
      ],
      "metadata": {
        "id": "P9Q2DgRA2bnT"
      },
      "execution_count": null,
      "outputs": []
    },
    {
      "cell_type": "markdown",
      "source": [
        "Menghasilkan Hasil Dekripsi dari proses Deciphering"
      ],
      "metadata": {
        "id": "Qt2N2Glv8n6p"
      }
    },
    {
      "cell_type": "code",
      "source": [
        "print(text)"
      ],
      "metadata": {
        "colab": {
          "base_uri": "https://localhost:8080/"
        },
        "id": "G2lvqAE_2lxZ",
        "outputId": "bea827d4-2bf6-49c9-8043-e2f1a4e7df8f"
      },
      "execution_count": null,
      "outputs": [
        {
          "output_type": "stream",
          "name": "stdout",
          "text": [
            "0100001101001111010011010101000001010101010101000100010101010010\n"
          ]
        }
      ]
    },
    {
      "cell_type": "code",
      "source": [
        "print(bin_pt)"
      ],
      "metadata": {
        "id": "BK1_9fis3GEi",
        "outputId": "a6fc937e-4952-4202-bcd9-aa8c1a60165e",
        "colab": {
          "base_uri": "https://localhost:8080/"
        }
      },
      "execution_count": null,
      "outputs": [
        {
          "output_type": "stream",
          "name": "stdout",
          "text": [
            "0100001101001111010011010101000001010101010101000100010101010010\n"
          ]
        }
      ]
    },
    {
      "cell_type": "markdown",
      "source": [
        "Dan mengubah binary hasil di atas menjadi character biasa"
      ],
      "metadata": {
        "id": "1z7bxjsJ8svG"
      }
    },
    {
      "cell_type": "code",
      "source": [
        "pt_dec = \"\"\n",
        "for i in range(0, 64, 8):\n",
        "  char_bin = bin_pt[i:i+8]\n",
        "  char_dec = bin_to_dec(char_bin)\n",
        "  char = chr(char_dec)\n",
        "  pt_dec += char\n",
        "  char_bin = \"\""
      ],
      "metadata": {
        "id": "iSJaYGmx6ixs"
      },
      "execution_count": null,
      "outputs": []
    },
    {
      "cell_type": "code",
      "source": [
        "print(pt_dec)"
      ],
      "metadata": {
        "colab": {
          "base_uri": "https://localhost:8080/"
        },
        "id": "PUzcWjdi7WlJ",
        "outputId": "38ef1db5-0025-482e-a4ff-6d4d4b3e16bf"
      },
      "execution_count": null,
      "outputs": [
        {
          "output_type": "stream",
          "name": "stdout",
          "text": [
            "COMPUTER\n"
          ]
        }
      ]
    }
  ]
}